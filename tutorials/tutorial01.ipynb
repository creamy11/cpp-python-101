{
 "cells": [
  {
   "cell_type": "markdown",
   "metadata": {},
   "source": [
    "## `list` addition"
   ]
  },
  {
   "cell_type": "code",
   "execution_count": 1,
   "metadata": {
    "collapsed": false
   },
   "outputs": [
    {
     "name": "stdout",
     "output_type": "stream",
     "text": [
      "type of a is <class 'list'>\n",
      "a = [1, 2, 3]\n",
      "b = [4, 5, 6]\n",
      "a + b = [1, 2, 3, 4, 5, 6]\n"
     ]
    }
   ],
   "source": [
    "a = [1, 2, 3]\n",
    "b = [4, 5, 6]\n",
    "c = a + b\n",
    "print('type of a is {0}'.format(type(a)))\n",
    "print('a = {0}'.format(a))\n",
    "print('b = {0}'.format(b))\n",
    "print('a + b = {0}'.format(c))"
   ]
  },
  {
   "cell_type": "markdown",
   "metadata": {},
   "source": [
    "## `numpy` array addition"
   ]
  },
  {
   "cell_type": "code",
   "execution_count": 2,
   "metadata": {
    "collapsed": false
   },
   "outputs": [
    {
     "name": "stdout",
     "output_type": "stream",
     "text": [
      "type of a is <class 'numpy.ndarray'>\n",
      "a = [1 2 3]\n",
      "b = [4 5 6]\n",
      "a + b = [5 7 9]\n"
     ]
    }
   ],
   "source": [
    "import numpy as np\n",
    "a = np.array([1, 2, 3])\n",
    "b = np.array([4, 5, 6])\n",
    "c = a + b\n",
    "print('type of a is {0}'.format(type(a)))\n",
    "print('a = {0}'.format(a))\n",
    "print('b = {0}'.format(b))\n",
    "print('a + b = {0}'.format(c))"
   ]
  },
  {
   "cell_type": "markdown",
   "metadata": {},
   "source": [
    "## `numpy` Matrix Transpose"
   ]
  },
  {
   "cell_type": "code",
   "execution_count": 3,
   "metadata": {
    "collapsed": false
   },
   "outputs": [
    {
     "name": "stdout",
     "output_type": "stream",
     "text": [
      "A = \n",
      "[[1 2 3]\n",
      " [4 5 6]\n",
      " [7 8 9]]\n",
      "A^T = \n",
      "[[1 4 7]\n",
      " [2 5 8]\n",
      " [3 6 9]]\n",
      "A^T = \n",
      "[[1 4 7]\n",
      " [2 5 8]\n",
      " [3 6 9]]\n"
     ]
    }
   ],
   "source": [
    "import numpy as np\n",
    "A = np.matrix('1, 2, 3 ; 4, 5, 6 ; 7, 8, 9')\n",
    "print('A = \\n{0}'.format(A))\n",
    "print('A^T = \\n{0}'.format(A.T))\n",
    "print('A^T = \\n{0}'.format(A.transpose()))"
   ]
  },
  {
   "cell_type": "markdown",
   "metadata": {},
   "source": [
    "## `numpy` Matrix-Matrix Addition"
   ]
  },
  {
   "cell_type": "code",
   "execution_count": 4,
   "metadata": {
    "collapsed": false
   },
   "outputs": [
    {
     "name": "stdout",
     "output_type": "stream",
     "text": [
      "A = \n",
      "[[1 2 3]\n",
      " [4 5 6]\n",
      " [7 8 9]]\n",
      "B = \n",
      "[[10 12 13]\n",
      " [14 15 16]\n",
      " [17 18 19]]\n",
      "A + B = \n",
      "[[11 14 16]\n",
      " [18 20 22]\n",
      " [24 26 28]]\n"
     ]
    }
   ],
   "source": [
    "import numpy as np\n",
    "A = np.matrix('1, 2, 3 ; 4, 5, 6 ; 7, 8, 9')\n",
    "B = np.matrix('10, 12, 13 ; 14, 15, 16 ; 17, 18, 19')\n",
    "C = A + B\n",
    "print('A = ')\n",
    "print(A)\n",
    "print('B = ')\n",
    "print(B)\n",
    "print('A + B = ')\n",
    "print(C)"
   ]
  },
  {
   "cell_type": "markdown",
   "metadata": {},
   "source": [
    "## `numpy` Matrix-Matrix Multiplication"
   ]
  },
  {
   "cell_type": "code",
   "execution_count": 5,
   "metadata": {
    "collapsed": false
   },
   "outputs": [
    {
     "name": "stdout",
     "output_type": "stream",
     "text": [
      "A = \n",
      "[[1 2 3]\n",
      " [4 5 6]\n",
      " [7 8 9]]\n",
      "B = \n",
      "[[10 12 13]\n",
      " [14 15 16]\n",
      " [17 18 19]]\n",
      "A * B = \n",
      "[[ 89  96 102]\n",
      " [212 231 246]\n",
      " [335 366 390]]\n"
     ]
    }
   ],
   "source": [
    "import numpy as np\n",
    "A = np.matrix('1, 2, 3 ; 4, 5, 6 ; 7, 8, 9')\n",
    "B = np.matrix('10, 12, 13 ; 14, 15, 16 ; 17, 18, 19')\n",
    "C = A * B\n",
    "print('A = ')\n",
    "print(A)\n",
    "print('B = ')\n",
    "print(B)\n",
    "print('A * B = ')\n",
    "print(C)"
   ]
  },
  {
   "cell_type": "markdown",
   "metadata": {},
   "source": [
    "## `numpy` Matrix-Vector Multiplication"
   ]
  },
  {
   "cell_type": "markdown",
   "metadata": {},
   "source": [
    "Usage of `np.matrix` type"
   ]
  },
  {
   "cell_type": "code",
   "execution_count": 6,
   "metadata": {
    "collapsed": false
   },
   "outputs": [
    {
     "name": "stdout",
     "output_type": "stream",
     "text": [
      "A = \n",
      "[[1 2 3]\n",
      " [4 5 6]\n",
      " [7 8 9]]\n",
      "b = \n",
      "[[10 12 13]\n",
      " [14 15 16]\n",
      " [17 18 19]]\n",
      "A * b = \n",
      "[[ 39]\n",
      " [ 84]\n",
      " [129]]\n"
     ]
    }
   ],
   "source": [
    "import numpy as np\n",
    "A = np.matrix('1, 2, 3 ; 4, 5, 6 ; 7, 8, 9')\n",
    "b = np.matrix('0 ; 6 ; 9')\n",
    "C = A * b\n",
    "print('A = ')\n",
    "print(A)\n",
    "print('b = ')\n",
    "print(B)\n",
    "print('A * b = ')\n",
    "print(C)"
   ]
  },
  {
   "cell_type": "markdown",
   "metadata": {},
   "source": [
    "Usage of `np.array` type"
   ]
  },
  {
   "cell_type": "code",
   "execution_count": 7,
   "metadata": {
    "collapsed": false
   },
   "outputs": [
    {
     "name": "stdout",
     "output_type": "stream",
     "text": [
      "A = \n",
      "[[1 2 3]\n",
      " [4 5 6]\n",
      " [7 8 9]]\n",
      "b = \n",
      "[[10 12 13]\n",
      " [14 15 16]\n",
      " [17 18 19]]\n",
      "A * b = \n",
      "[[ 39  84 129]]\n"
     ]
    }
   ],
   "source": [
    "import numpy as np\n",
    "A = np.matrix('1, 2, 3 ; 4, 5, 6 ; 7, 8, 9')\n",
    "b = np.array([0, 6, 9])\n",
    "C = np.dot(A, b)\n",
    "print('A = ')\n",
    "print(A)\n",
    "print('b = ')\n",
    "print(B)\n",
    "print('A * b = ')\n",
    "print(C)"
   ]
  },
  {
   "cell_type": "markdown",
   "metadata": {},
   "source": [
    "## `numpy` Linear System Solver"
   ]
  },
  {
   "cell_type": "code",
   "execution_count": 8,
   "metadata": {
    "collapsed": false
   },
   "outputs": [
    {
     "name": "stdout",
     "output_type": "stream",
     "text": [
      "A = \n",
      "[[8 1 6]\n",
      " [3 5 7]\n",
      " [4 9 2]]\n",
      "x = \n",
      "[[0]\n",
      " [6]\n",
      " [9]]\n",
      "b = A * x = \n",
      "[[60]\n",
      " [93]\n",
      " [72]]\n"
     ]
    }
   ],
   "source": [
    "import numpy as np\n",
    "A = np.matrix('8, 1, 6; 3, 5, 7; 4, 9, 2')\n",
    "x = np.matrix('0 ; 6 ; 9') # desired solution\n",
    "b = A * x\n",
    "print('A = ')\n",
    "print(A)\n",
    "print('x = ')\n",
    "print(x)\n",
    "print('b = A * x = ')\n",
    "print(b)"
   ]
  },
  {
   "cell_type": "markdown",
   "metadata": {},
   "source": [
    "### Matrix `A` Property"
   ]
  },
  {
   "cell_type": "code",
   "execution_count": 9,
   "metadata": {
    "collapsed": false
   },
   "outputs": [
    {
     "name": "stdout",
     "output_type": "stream",
     "text": [
      "determinant of A =  -360.0\n",
      "condition number of A =  4.33012701892\n",
      "Eigen values and eigen vectors\n",
      "[ 15.           4.89897949  -4.89897949]\n",
      "[[-0.57735027 -0.81305253 -0.34164801]\n",
      " [-0.57735027  0.47140452 -0.47140452]\n",
      " [-0.57735027  0.34164801  0.81305253]]\n"
     ]
    }
   ],
   "source": [
    "print('determinant of A = ', np.linalg.det(A))\n",
    "print('condition number of A = ', np.linalg.cond(A))\n",
    "print('Eigen values and eigen vectors')\n",
    "eigen_values, eigen_vector = np.linalg.eig(A)\n",
    "print(eigen_values)\n",
    "print(eigen_vector)"
   ]
  },
  {
   "cell_type": "markdown",
   "metadata": {},
   "source": [
    "Usage of `inv` (not recommended)"
   ]
  },
  {
   "cell_type": "code",
   "execution_count": 10,
   "metadata": {
    "collapsed": false
   },
   "outputs": [
    {
     "name": "stdout",
     "output_type": "stream",
     "text": [
      "x = \n",
      "[[0]\n",
      " [6]\n",
      " [9]]\n",
      "x_sol = \n",
      "[[  2.66453526e-15]\n",
      " [  6.00000000e+00]\n",
      " [  9.00000000e+00]]\n"
     ]
    }
   ],
   "source": [
    "import numpy as np\n",
    "A = np.matrix('8, 1, 6; 3, 5, 7; 4, 9, 2')\n",
    "x = np.matrix('0 ; 6 ; 9') # desired solution\n",
    "b = A * x\n",
    "A_inv = np.linalg.inv(A)\n",
    "x_sol = A_inv * b\n",
    "print('x = ')\n",
    "print(x)\n",
    "print('x_sol = ')\n",
    "print(x_sol)"
   ]
  },
  {
   "cell_type": "markdown",
   "metadata": {},
   "source": [
    "Usage of `solve`"
   ]
  },
  {
   "cell_type": "code",
   "execution_count": 11,
   "metadata": {
    "collapsed": false
   },
   "outputs": [
    {
     "name": "stdout",
     "output_type": "stream",
     "text": [
      "x = \n",
      "[[0]\n",
      " [6]\n",
      " [9]]\n",
      "x_sol = \n",
      "[[ 0.]\n",
      " [ 6.]\n",
      " [ 9.]]\n"
     ]
    }
   ],
   "source": [
    "import numpy as np\n",
    "A = np.matrix('8, 1, 6; 3, 5, 7; 4, 9, 2')\n",
    "x = np.matrix('0 ; 6 ; 9') # desired solution\n",
    "b = A * x\n",
    "x_sol = np.linalg.solve(A, b)\n",
    "print('x = ')\n",
    "print(x)\n",
    "print('x_sol = ')\n",
    "print(x_sol)"
   ]
  },
  {
   "cell_type": "code",
   "execution_count": null,
   "metadata": {
    "collapsed": true
   },
   "outputs": [],
   "source": []
  }
 ],
 "metadata": {
  "kernelspec": {
   "display_name": "Python 3",
   "language": "python",
   "name": "python3"
  },
  "language_info": {
   "codemirror_mode": {
    "name": "ipython",
    "version": 3
   },
   "file_extension": ".py",
   "mimetype": "text/x-python",
   "name": "python",
   "nbconvert_exporter": "python",
   "pygments_lexer": "ipython3",
   "version": "3.5.2"
  }
 },
 "nbformat": 4,
 "nbformat_minor": 1
}
